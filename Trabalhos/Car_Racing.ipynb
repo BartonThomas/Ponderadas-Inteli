{
  "cells": [
    {
      "cell_type": "code",
      "execution_count": 1,
      "metadata": {
        "id": "U642nEXJyisS"
      },
      "outputs": [],
      "source": [
        "import gymnasium as gym\n",
        "import matplotlib.pyplot as plt\n",
        "from stable_baselines3 import PPO\n",
        "from stable_baselines3.common.callbacks import BaseCallback"
      ]
    },
    {
      "cell_type": "code",
      "source": [
        "rewardList = []\n",
        "\n",
        "class CustomCallback(BaseCallback):\n",
        "  def __init__(self, verbose: int = 0):\n",
        "    super().__init__(verbose)\n",
        "    self.nextTime = 1000\n",
        "    pass\n",
        "\n",
        "  def _on_training_start(self) -> None:\n",
        "    pass\n",
        "\n",
        "  def _on_rollout_start(self) -> None:\n",
        "    pass\n",
        "\n",
        "  def _on_step(self) -> bool:\n",
        "    # Salvamentoo dos valores a cada 1000 etapas parra plotar\n",
        "    if self.num_timesteps >= self.nextTime:\n",
        "      self.nextTime += 1000\n",
        "      rewardList.append(self.locals[\"rewards\"])\n",
        "    return True\n",
        "\n",
        "  def _on_rollout_end(self) -> None:\n",
        "    pass\n",
        "\n",
        "  def _on_training_end(self) -> None:\n",
        "    pass"
      ],
      "metadata": {
        "id": "tux5pGXCNlQb"
      },
      "execution_count": 39,
      "outputs": []
    },
    {
      "cell_type": "code",
      "execution_count": null,
      "metadata": {
        "id": "M1bnoPEnVQTy"
      },
      "outputs": [],
      "source": [
        "env = gym.make('CarRacing-v2')\n",
        "\n",
        "model = PPO(\n",
        "    \"CnnPolicy\",\n",
        "    env,\n",
        "    learning_rate=1e-3,\n",
        "    batch_size=64,\n",
        "    verbose=1 # Vizualização do treinamento\n",
        ")\n",
        "\n",
        "model.learn(total_timesteps=500000, callback=CustomCallback())"
      ]
    },
    {
      "cell_type": "code",
      "source": [
        "plt.plot(rewardList)\n",
        "plt.xlabel('Etapa')\n",
        "plt.ylabel('Recompensa')\n",
        "plt.title('Etapa x Recompensa')\n",
        "plt.grid(True)\n",
        "plt.show()"
      ],
      "metadata": {
        "id": "GvCCtVaKTJh6"
      },
      "execution_count": null,
      "outputs": []
    },
    {
      "cell_type": "code",
      "source": [
        "rewardList"
      ],
      "metadata": {
        "id": "J8mfGkoMAzA8"
      },
      "execution_count": null,
      "outputs": []
    }
  ],
  "metadata": {
    "accelerator": "GPU",
    "colab": {
      "gpuType": "T4",
      "provenance": [],
      "authorship_tag": "ABX9TyNaxIx4ydoejBFPsagLp/0S"
    },
    "kernelspec": {
      "display_name": "Python 3",
      "name": "python3"
    },
    "language_info": {
      "name": "python"
    }
  },
  "nbformat": 4,
  "nbformat_minor": 0
}