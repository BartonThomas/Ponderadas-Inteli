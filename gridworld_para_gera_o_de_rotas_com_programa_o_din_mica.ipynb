{
  "nbformat": 4,
  "nbformat_minor": 0,
  "metadata": {
    "colab": {
      "provenance": [],
      "authorship_tag": "ABX9TyOnjHvgiKnJq7m01nPeRkZ3",
      "include_colab_link": true
    },
    "kernelspec": {
      "name": "python3",
      "display_name": "Python 3"
    },
    "language_info": {
      "name": "python"
    }
  },
  "cells": [
    {
      "cell_type": "markdown",
      "metadata": {
        "id": "view-in-github",
        "colab_type": "text"
      },
      "source": [
        "<a href=\"https://colab.research.google.com/github/BartonThomas/sem-3/blob/main/gridworld_para_gera_o_de_rotas_com_programa_o_din_mica.ipynb\" target=\"_parent\"><img src=\"https://colab.research.google.com/assets/colab-badge.svg\" alt=\"Open In Colab\"/></a>"
      ]
    },
    {
      "cell_type": "code",
      "source": [
        "import random\n",
        "\n",
        "# Define actions\n",
        "ACTIONS = ['up', 'down', 'left', 'right']\n",
        "\n",
        "class Agent:\n",
        "    def __init__(self, rows, cols):\n",
        "        self.rows = rows\n",
        "        self.cols = cols\n",
        "        self.q_table = {(x, y): {action: 0 for action in ACTIONS} for x in range(rows) for y in range(cols)}\n",
        "        self.epsilon = 0.1  # Exploration rate\n",
        "        self.alpha = 0.1  # Learning rate\n",
        "        self.gamma = 0.9  # Discount factor\n",
        "        self.position = (0, 0)  # Starting position\n",
        "\n",
        "    def choose_action(self):\n",
        "        if random.uniform(0, 1) < self.epsilon:\n",
        "            return random.choice(ACTIONS)\n",
        "        else:\n",
        "            return max(self.q_table[self.position], key=self.q_table[self.position].get)\n",
        "\n",
        "    def move(self, action):\n",
        "        x, y = self.position\n",
        "        if action == 'up':\n",
        "            x -= 1\n",
        "        elif action == 'down':\n",
        "            x += 1\n",
        "        elif action == 'left':\n",
        "            y -= 1\n",
        "        elif action == 'right':\n",
        "            y += 1\n",
        "\n",
        "        # Check if the move is valid\n",
        "        if 0 <= x < self.rows and 0 <= y < self.cols:\n",
        "            if grid[x][y] == '|':  # If there's a mountain\n",
        "                reward = -1\n",
        "            elif grid[x][y] == '*':  # If there's sand (agent dies)\n",
        "                reward = -10\n",
        "                x, y = 0, 0  # Reset position\n",
        "            else:\n",
        "                reward = 0\n",
        "            self.position = (x, y)\n",
        "        else:\n",
        "            reward = -1  # Move not allowed\n",
        "        return reward\n",
        "\n",
        "    def update_q_table(self, action, reward, next_position):\n",
        "        x, y = self.position\n",
        "        next_x, next_y = next_position\n",
        "        max_next_q = max(self.q_table[next_position].values())\n",
        "        self.q_table[x, y][action] += self.alpha * (reward + self.gamma * max_next_q - self.q_table[x, y][action])\n",
        "\n",
        "    def train(self, episodes):\n",
        "        for _ in range(episodes):\n",
        "            self.position = (0, 0)  # Reset position for each episode\n",
        "            while True:\n",
        "                action = self.choose_action()\n",
        "                reward = self.move(action)\n",
        "                if reward == -10:  # If the agent dies, end episode\n",
        "                    break\n",
        "                self.update_q_table(action, reward, self.position)\n",
        "\n",
        "# Define grid\n",
        "rows = 8\n",
        "cols = 8\n",
        "grid = [['.' for _ in range(cols)] for _ in range(rows)]\n",
        "num_sand = 2\n",
        "num_mountains = 4\n",
        "for _ in range(num_sand):\n",
        "    x = random.randint(0, rows - 1)\n",
        "    y = random.randint(0, cols - 1)\n",
        "    grid[x][y] = '*'\n",
        "for _ in range(num_mountains):\n",
        "    x = random.randint(0, rows - 1)\n",
        "    y = random.randint(0, cols - 1)\n",
        "    grid[x][y] = '|'\n",
        "\n",
        "# Initialize and train agent\n",
        "agent = Agent(rows, cols)\n",
        "agent.train(episodes=100000)\n",
        "\n",
        "for position, actions in agent.q_table.items():\n",
        "    print(f\"Posição: {position}, Q-values: {actions}\")\n"
      ],
      "metadata": {
        "id": "LfgEqtxIKYSk"
      },
      "execution_count": null,
      "outputs": []
    },
    {
      "cell_type": "code",
      "source": [
        "def navigate_grid(agent, grid):\n",
        "    current_position = (0, 0)\n",
        "    rows = len(grid)\n",
        "    cols = len(grid[0])\n",
        "\n",
        "    print(\"Grid inicial:\")\n",
        "    print_grid(grid)\n",
        "\n",
        "    while True:\n",
        "        action = agent.choose_action()\n",
        "        reward = agent.move(action)\n",
        "        x, y = agent.position\n",
        "        if reward == -10:\n",
        "            print(\"Agente morto.\")\n",
        "            agent.position = (0, 0)\n",
        "            current_position = (0, 0)\n",
        "            continue\n",
        "        elif reward == -1:\n",
        "            continue\n",
        "\n",
        "        print(\"\\nPosição do agente:\")\n",
        "        for i in range(rows):\n",
        "            for j in range(cols):\n",
        "                if (i, j) == (x, y):\n",
        "                    print('X', end=' ')\n",
        "                else:\n",
        "                    print(grid[i][j], end=' ')\n",
        "            print()\n",
        "\n",
        "        current_position = (x, y)\n",
        "\n",
        "        # Check if the agent reached the end of the grid\n",
        "        if current_position == (rows - 1, cols - 1):\n",
        "            print(\"Agente atingiu o final!\")\n",
        "            break\n",
        "\n",
        "# Call the function to navigate the grid\n",
        "navigate_grid(agent, grid)\n"
      ],
      "metadata": {
        "id": "UWYyuBisQfYu",
        "outputId": "59f3c3bc-9e4e-4d99-dc7a-dd4c2c43d155",
        "colab": {
          "base_uri": "https://localhost:8080/",
          "height": 315
        }
      },
      "execution_count": 11,
      "outputs": [
        {
          "output_type": "stream",
          "name": "stdout",
          "text": [
            "Grid inicial:\n"
          ]
        },
        {
          "output_type": "error",
          "ename": "NameError",
          "evalue": "name 'print_grid' is not defined",
          "traceback": [
            "\u001b[0;31m---------------------------------------------------------------------------\u001b[0m",
            "\u001b[0;31mNameError\u001b[0m                                 Traceback (most recent call last)",
            "\u001b[0;32m<ipython-input-11-a7515665968b>\u001b[0m in \u001b[0;36m<cell line: 38>\u001b[0;34m()\u001b[0m\n\u001b[1;32m     36\u001b[0m \u001b[0;34m\u001b[0m\u001b[0m\n\u001b[1;32m     37\u001b[0m \u001b[0;31m# Call the function to navigate the grid\u001b[0m\u001b[0;34m\u001b[0m\u001b[0;34m\u001b[0m\u001b[0m\n\u001b[0;32m---> 38\u001b[0;31m \u001b[0mnavigate_grid\u001b[0m\u001b[0;34m(\u001b[0m\u001b[0magent\u001b[0m\u001b[0;34m,\u001b[0m \u001b[0mgrid\u001b[0m\u001b[0;34m)\u001b[0m\u001b[0;34m\u001b[0m\u001b[0;34m\u001b[0m\u001b[0m\n\u001b[0m",
            "\u001b[0;32m<ipython-input-11-a7515665968b>\u001b[0m in \u001b[0;36mnavigate_grid\u001b[0;34m(agent, grid)\u001b[0m\n\u001b[1;32m      5\u001b[0m \u001b[0;34m\u001b[0m\u001b[0m\n\u001b[1;32m      6\u001b[0m     \u001b[0mprint\u001b[0m\u001b[0;34m(\u001b[0m\u001b[0;34m\"Grid inicial:\"\u001b[0m\u001b[0;34m)\u001b[0m\u001b[0;34m\u001b[0m\u001b[0;34m\u001b[0m\u001b[0m\n\u001b[0;32m----> 7\u001b[0;31m     \u001b[0mprint_grid\u001b[0m\u001b[0;34m(\u001b[0m\u001b[0mgrid\u001b[0m\u001b[0;34m)\u001b[0m\u001b[0;34m\u001b[0m\u001b[0;34m\u001b[0m\u001b[0m\n\u001b[0m\u001b[1;32m      8\u001b[0m \u001b[0;34m\u001b[0m\u001b[0m\n\u001b[1;32m      9\u001b[0m     \u001b[0;32mwhile\u001b[0m \u001b[0;32mTrue\u001b[0m\u001b[0;34m:\u001b[0m\u001b[0;34m\u001b[0m\u001b[0;34m\u001b[0m\u001b[0m\n",
            "\u001b[0;31mNameError\u001b[0m: name 'print_grid' is not defined"
          ]
        }
      ]
    }
  ]
}