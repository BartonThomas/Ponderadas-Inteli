{
  "nbformat": 4,
  "nbformat_minor": 0,
  "metadata": {
    "colab": {
      "provenance": [],
      "authorship_tag": "ABX9TyPVJWBZ5IFMv7zTGrU9BeUo",
      "include_colab_link": true
    },
    "kernelspec": {
      "name": "python3",
      "display_name": "Python 3"
    },
    "language_info": {
      "name": "python"
    }
  },
  "cells": [
    {
      "cell_type": "markdown",
      "metadata": {
        "id": "view-in-github",
        "colab_type": "text"
      },
      "source": [
        "<a href=\"https://colab.research.google.com/github/BartonThomas/sem-3/blob/main/gridworld_para_gera_o_de_rotas_com_programa_o_din_mica.ipynb\" target=\"_parent\"><img src=\"https://colab.research.google.com/assets/colab-badge.svg\" alt=\"Open In Colab\"/></a>"
      ]
    },
    {
      "cell_type": "code",
      "source": [
        "import numpy as np\n",
        "import random"
      ],
      "metadata": {
        "id": "LfgEqtxIKYSk"
      },
      "execution_count": null,
      "outputs": []
    },
    {
      "cell_type": "code",
      "source": [
        "grid = np.zeros((8,8))"
      ],
      "metadata": {
        "id": "jLYXYxdiJscf"
      },
      "execution_count": null,
      "outputs": []
    },
    {
      "cell_type": "code",
      "source": [
        "grid"
      ],
      "metadata": {
        "colab": {
          "base_uri": "https://localhost:8080/"
        },
        "id": "phY8epSwKbtH",
        "outputId": "030c6646-fe6c-4609-f270-6c79c267708f"
      },
      "execution_count": null,
      "outputs": [
        {
          "output_type": "execute_result",
          "data": {
            "text/plain": [
              "array([[0., 0., 0., 0., 0., 0., 0., 0.],\n",
              "       [0., 0., 0., 0., 0., 0., 0., 0.],\n",
              "       [0., 0., 0., 0., 0., 0., 0., 0.],\n",
              "       [0., 0., 0., 0., 0., 0., 0., 0.],\n",
              "       [0., 0., 0., 0., 0., 0., 0., 0.],\n",
              "       [0., 0., 0., 0., 0., 0., 0., 0.],\n",
              "       [0., 0., 0., 0., 0., 0., 0., 0.],\n",
              "       [0., 0., 0., 0., 0., 0., 0., 0.]])"
            ]
          },
          "metadata": {},
          "execution_count": 5
        }
      ]
    },
    {
      "cell_type": "code",
      "source": [
        "up = grid[i-1][j] if i > 0 else None\n",
        "down = grid[i+1][j] if i < 4 else None\n",
        "left = grid[i][j-1] if j > 0 else None\n",
        "right = grid[i][j+1] if j < 4 else None"
      ],
      "metadata": {
        "id": "JBo3xI6PKb6J"
      },
      "execution_count": null,
      "outputs": []
    },
    {
      "cell_type": "code",
      "source": [
        "np.round(grid, 1)"
      ],
      "metadata": {
        "colab": {
          "base_uri": "https://localhost:8080/"
        },
        "id": "Gou4w3Q2LAx0",
        "outputId": "beac2e95-26f1-4a08-c987-86d62dab4130"
      },
      "execution_count": null,
      "outputs": [
        {
          "output_type": "execute_result",
          "data": {
            "text/plain": [
              "array([[ 3.3,  8.8,  4.4,  5.3,  1.5, -0.6, -1.7, -2.4],\n",
              "       [ 1.5,  3. ,  2.3,  1.9,  0.5, -0.6, -1.5, -2. ],\n",
              "       [ 0.1,  0.7,  0.7,  0.4, -0.4, -1.1, -1.7, -2.1],\n",
              "       [-1. , -0.4, -0.4, -0.6, -1.2, -1.7, -2.1, -2.4],\n",
              "       [-1.9, -1.3, -1.2, -1.4, -2. , -2.4, -2.7, -3. ],\n",
              "       [-2.5, -1.9, -1.8, -2. , -2.5, -2.9, -3.2, -3.4],\n",
              "       [-2.8, -2.3, -2.2, -2.4, -2.9, -3.3, -3.5, -3.7],\n",
              "       [-3. , -2.6, -2.4, -2.6, -3.1, -3.5, -3.7, -3.9]])"
            ]
          },
          "metadata": {},
          "execution_count": 11
        }
      ]
    },
    {
      "cell_type": "code",
      "source": [],
      "metadata": {
        "id": "ZVVyR2uUQt1f"
      },
      "execution_count": null,
      "outputs": []
    }
  ]
}